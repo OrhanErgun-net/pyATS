{
 "cells": [
  {
   "cell_type": "markdown",
   "metadata": {},
   "source": [
    "## Installation"
   ]
  },
  {
   "cell_type": "code",
   "execution_count": null,
   "metadata": {
    "vscode": {
     "languageId": "shellscript"
    }
   },
   "outputs": [],
   "source": [
    "# Make sure your prompt starts with (venv)\n",
    "pip install \"pyats[full]\" "
   ]
  },
  {
   "cell_type": "code",
   "execution_count": null,
   "metadata": {
    "vscode": {
     "languageId": "shellscript"
    }
   },
   "outputs": [],
   "source": [
    "# To upgrade\n",
    "pip install pyats[full] --upgrade"
   ]
  },
  {
   "cell_type": "code",
   "execution_count": null,
   "metadata": {
    "vscode": {
     "languageId": "shellscript"
    }
   },
   "outputs": [],
   "source": [
    "# To check the current version\n",
    "pyats version check"
   ]
  },
  {
   "cell_type": "markdown",
   "metadata": {},
   "source": [
    "## Basic Connectivity"
   ]
  },
  {
   "cell_type": "code",
   "execution_count": null,
   "metadata": {},
   "outputs": [],
   "source": [
    "# Basic device connectivity\n",
    "\n",
    "from genie.testbed import load\n",
    "\n",
    "# Make sure the yaml file is in the same\n",
    "# directory, or provide absolute path\n",
    "tb = load('device.yaml')\n",
    "dev = tb.devices['R1']\n",
    "dev.connect()\n",
    "\n",
    "# To disable default configuration\n",
    "dev.connect(mit=True)"
   ]
  },
  {
   "cell_type": "markdown",
   "metadata": {},
   "source": [
    "## Parsing"
   ]
  },
  {
   "cell_type": "code",
   "execution_count": null,
   "metadata": {
    "vscode": {
     "languageId": "shellscript"
    }
   },
   "outputs": [],
   "source": [
    "# Using Bash\n",
    "pyats parse \"show version\" --testbed-file device.yaml --devices router1"
   ]
  },
  {
   "cell_type": "code",
   "execution_count": null,
   "metadata": {},
   "outputs": [],
   "source": [
    "# Using Python\n",
    "from genie.testbed import load\n",
    "\n",
    "tb = load('device.yaml')\n",
    "dev = tb.devices['R1']\n",
    "dev.connec()\n",
    "p1 = dev.parse('show version')\n",
    "\n",
    "print(p1)"
   ]
  },
  {
   "cell_type": "markdown",
   "metadata": {},
   "source": [
    "## Learning Features"
   ]
  },
  {
   "cell_type": "code",
   "execution_count": null,
   "metadata": {},
   "outputs": [],
   "source": [
    "# Using Python\n",
    "from genie.testbed import load\n",
    "\n",
    "tb = load('device.yaml')\n",
    "dev = tb.devices['R1']\n",
    "dev.connect()\n",
    "p1 = dev.learn('ospf')\n",
    "\n",
    "print(p1)"
   ]
  },
  {
   "cell_type": "code",
   "execution_count": null,
   "metadata": {
    "vscode": {
     "languageId": "shellscript"
    }
   },
   "outputs": [],
   "source": [
    "# Using pyats interactive shell\n",
    "(pyats) $ pyats shell --testbed-file device.yaml\n",
    "\n",
    "# Python code in the next cell"
   ]
  },
  {
   "cell_type": "code",
   "execution_count": null,
   "metadata": {},
   "outputs": [],
   "source": [
    "dev = testbed.devices['router1']\n",
    "dev.connect()\n",
    "output = dev.learn('ospf')"
   ]
  },
  {
   "cell_type": "code",
   "execution_count": null,
   "metadata": {
    "vscode": {
     "languageId": "shellscript"
    }
   },
   "outputs": [],
   "source": [
    "# Using Bash\n",
    "# You can redirect the output into a text file\n",
    "# Replace ouput_folder\n",
    "(pyats) $ pyats learn ospf --testbed-file device.yaml --devices router1 --output output_folder"
   ]
  },
  {
   "cell_type": "code",
   "execution_count": null,
   "metadata": {
    "vscode": {
     "languageId": "shellscript"
    }
   },
   "outputs": [],
   "source": [
    "# To learn multiple features\n",
    "(pyats) $ pyats learn ospf bgp --testbed-file device.yaml --devices router1 --output output_folder"
   ]
  },
  {
   "cell_type": "code",
   "execution_count": null,
   "metadata": {
    "vscode": {
     "languageId": "shellscript"
    }
   },
   "outputs": [],
   "source": [
    "# To learn all features\n",
    "(pyats) $ pyats learn all --testbed-file device.yaml --devices router1 --output output_folder"
   ]
  },
  {
   "cell_type": "markdown",
   "metadata": {},
   "source": [
    "## Configuring Devices"
   ]
  },
  {
   "cell_type": "markdown",
   "metadata": {},
   "source": [
    "### The direct method"
   ]
  },
  {
   "cell_type": "code",
   "execution_count": null,
   "metadata": {},
   "outputs": [],
   "source": [
    "from genie.testbed import load\n",
    "\n",
    "config_commands = '''\n",
    "    interface Ethernet0/1\n",
    "    no shutdown\n",
    "'''\n",
    "\n",
    "tb = load('device.yaml')\n",
    "dev = tb.devices['R1']\n",
    "dev.connect()\n",
    "dev.configure(config_commands)\n",
    "\n",
    "print(f\"Configuration applied to R1\")\n",
    "\n",
    "dev.disconnect()"
   ]
  },
  {
   "cell_type": "code",
   "execution_count": null,
   "metadata": {},
   "outputs": [],
   "source": [
    "# With exception handling\n",
    "from genie.testbed import load\n",
    "\n",
    "try:\n",
    "    config_commands = '''\n",
    "    interface Ethernet0/1\n",
    "    no shutdown\n",
    "    '''\n",
    "    \n",
    "    tb = load('device.yaml')\n",
    "    dev = tb.devices['R1']\n",
    "    dev.connect()\n",
    "    dev.configure(config_commands)\n",
    "\n",
    "    print(f\"Configuration applied to R1\")\n",
    "    dev.disconnect()\n",
    "    \n",
    "except Exception as e:\n",
    "    print(\"Error: \", str(e))"
   ]
  },
  {
   "cell_type": "markdown",
   "metadata": {},
   "source": [
    "### Using Genie objects"
   ]
  },
  {
   "cell_type": "code",
   "execution_count": null,
   "metadata": {},
   "outputs": [],
   "source": [
    "from genie.testbed import load\n",
    "from genie.conf.base import Interface\n",
    "\n",
    "tb = load('device.yaml')\n",
    "uut = tb.devices['router1']\n",
    "\n",
    "uut.connect()\n",
    "interface = Interface(device=uut, name=\"Ethernet0/1\")\n",
    "\n",
    "interface.ipv4 = '192.168.0.1'\n",
    "interface.ipv4.netmask = '255.255.255.0'\n",
    "interface.shutdown = False\n",
    "\n",
    "print(interface.build_config(apply=False))"
   ]
  }
 ],
 "metadata": {
  "language_info": {
   "name": "python"
  }
 },
 "nbformat": 4,
 "nbformat_minor": 2
}
