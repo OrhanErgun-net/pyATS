{
 "cells": [
  {
   "cell_type": "markdown",
   "metadata": {},
   "source": [
    "## Installation"
   ]
  },
  {
   "cell_type": "code",
   "execution_count": null,
   "metadata": {
    "vscode": {
     "languageId": "shellscript"
    }
   },
   "outputs": [],
   "source": [
    "# Make sure your prompt starts with (venv)\n",
    "pip install \"pyats[full]\" "
   ]
  },
  {
   "cell_type": "code",
   "execution_count": null,
   "metadata": {
    "vscode": {
     "languageId": "shellscript"
    }
   },
   "outputs": [],
   "source": [
    "# To upgrade\n",
    "pip install pyats[full] --upgrade"
   ]
  },
  {
   "cell_type": "code",
   "execution_count": null,
   "metadata": {
    "vscode": {
     "languageId": "shellscript"
    }
   },
   "outputs": [],
   "source": [
    "# To check the current version\n",
    "pyats version check"
   ]
  },
  {
   "cell_type": "markdown",
   "metadata": {},
   "source": [
    "## Basic Connectivity"
   ]
  },
  {
   "cell_type": "code",
   "execution_count": null,
   "metadata": {},
   "outputs": [],
   "source": [
    "# Basic device connectivity\n",
    "\n",
    "from genie.testbed import load\n",
    "\n",
    "# Make sure the yaml file is in the same\n",
    "# directory, or provide absolute path\n",
    "tb = load('device.yaml')\n",
    "dev = tb.devices['R1']\n",
    "dev.connect()\n",
    "\n",
    "# To disable default configuration\n",
    "dev.connect(mit=True)"
   ]
  },
  {
   "cell_type": "markdown",
   "metadata": {},
   "source": [
    "## Parsing"
   ]
  },
  {
   "cell_type": "code",
   "execution_count": null,
   "metadata": {
    "vscode": {
     "languageId": "shellscript"
    }
   },
   "outputs": [],
   "source": [
    "# Using Bash\n",
    "pyats parse \"show version\" --testbed-file device.yaml --devices router1"
   ]
  },
  {
   "cell_type": "code",
   "execution_count": null,
   "metadata": {
    "vscode": {
     "languageId": "shellscript"
    }
   },
   "outputs": [],
   "source": [
    "# Multiple commands\n",
    "pyats parse \"show version\" \"show ip interface bried\" --testbed-file device.yaml --devices router1"
   ]
  },
  {
   "cell_type": "code",
   "execution_count": null,
   "metadata": {},
   "outputs": [],
   "source": [
    "# Using Python\n",
    "from genie.testbed import load\n",
    "\n",
    "tb = load('device.yaml')\n",
    "dev = tb.devices['R1']\n",
    "dev.connect()\n",
    "p1 = dev.parse('show version')\n",
    "\n",
    "print(p1)"
   ]
  },
  {
   "cell_type": "code",
   "execution_count": null,
   "metadata": {},
   "outputs": [],
   "source": [
    "# Using Python\n",
    "from genie.testbed import load\n",
    "\n",
    "tb = load('device.yaml')\n",
    "dev = tb.devices['R1']\n",
    "dev.connect(mit=True) # change this to False to see the difference\n",
    "p1 = dev.parse('show ip route')\n",
    "\n",
    "dev = tb.devices['S1']\n",
    "dev.connect(mit=True)\n",
    "p2 = dev.parse('show vlan brief')"
   ]
  },
  {
   "cell_type": "code",
   "execution_count": null,
   "metadata": {},
   "outputs": [],
   "source": [
    "# Using Python\n",
    "from genie.testbed import load\n",
    "\n",
    "routers = ('R1', 'R2', 'R3')\n",
    "\n",
    "for router in routers:\n",
    "    tb = load('device.yaml')\n",
    "    dev = tb.devices[router]\n",
    "    dev.connect(mit=True)\n",
    "    p1 = dev.parse('show ip route')\n"
   ]
  },
  {
   "cell_type": "markdown",
   "metadata": {},
   "source": [
    "## Learning Features"
   ]
  },
  {
   "cell_type": "code",
   "execution_count": null,
   "metadata": {},
   "outputs": [],
   "source": [
    "# Using Python\n",
    "from genie.testbed import load\n",
    "\n",
    "tb = load('device.yaml')\n",
    "dev = tb.devices['R1']\n",
    "dev.connect()\n",
    "p1 = dev.learn('ospf')\n",
    "\n",
    "print(p1)"
   ]
  },
  {
   "cell_type": "code",
   "execution_count": null,
   "metadata": {
    "vscode": {
     "languageId": "shellscript"
    }
   },
   "outputs": [],
   "source": [
    "# Using pyats interactive shell\n",
    "(pyats) $ pyats shell --testbed-file device.yaml\n",
    "\n",
    "# Python code in the next cell"
   ]
  },
  {
   "cell_type": "code",
   "execution_count": null,
   "metadata": {},
   "outputs": [],
   "source": [
    "dev = testbed.devices['router1']\n",
    "dev.connect()\n",
    "output = dev.learn('ospf')"
   ]
  },
  {
   "cell_type": "code",
   "execution_count": null,
   "metadata": {
    "vscode": {
     "languageId": "shellscript"
    }
   },
   "outputs": [],
   "source": [
    "# Using Bash\n",
    "# You can redirect the output into a text file\n",
    "# Replace ouput_folder\n",
    "(pyats) $ pyats learn ospf --testbed-file device.yaml --devices router1 --output output_folder"
   ]
  },
  {
   "cell_type": "code",
   "execution_count": null,
   "metadata": {
    "vscode": {
     "languageId": "shellscript"
    }
   },
   "outputs": [],
   "source": [
    "# To learn multiple features\n",
    "(pyats) $ pyats learn ospf bgp --testbed-file device.yaml --devices router1 --output output_folder"
   ]
  },
  {
   "cell_type": "code",
   "execution_count": null,
   "metadata": {
    "vscode": {
     "languageId": "shellscript"
    }
   },
   "outputs": [],
   "source": [
    "# To learn all features\n",
    "(pyats) $ pyats learn all --testbed-file device.yaml --devices router1 --output output_folder"
   ]
  },
  {
   "cell_type": "markdown",
   "metadata": {},
   "source": [
    "## Configuring Devices"
   ]
  },
  {
   "cell_type": "markdown",
   "metadata": {},
   "source": [
    "### The direct method"
   ]
  },
  {
   "cell_type": "code",
   "execution_count": null,
   "metadata": {},
   "outputs": [],
   "source": [
    "from genie.testbed import load\n",
    "\n",
    "config_commands = '''\n",
    "    interface Ethernet0/1\n",
    "    no shutdown\n",
    "'''\n",
    "\n",
    "tb = load('device.yaml')\n",
    "dev = tb.devices['R1']\n",
    "dev.connect()\n",
    "dev.configure(config_commands)\n",
    "\n",
    "print(f\"Configuration applied to R1\")\n",
    "\n",
    "dev.disconnect()"
   ]
  },
  {
   "cell_type": "code",
   "execution_count": null,
   "metadata": {},
   "outputs": [],
   "source": [
    "# With exception handling\n",
    "from genie.testbed import load\n",
    "\n",
    "try:\n",
    "    config_commands = '''\n",
    "    interface Ethernet0/1\n",
    "    no shutdown\n",
    "    '''\n",
    "    \n",
    "    tb = load('device.yaml')\n",
    "    dev = tb.devices['R1']\n",
    "    dev.connect()\n",
    "    dev.configure(config_commands)\n",
    "\n",
    "    print(f\"Configuration applied to R1\")\n",
    "    dev.disconnect()\n",
    "    \n",
    "except Exception as e:\n",
    "    print(\"Error: \", str(e))"
   ]
  },
  {
   "cell_type": "markdown",
   "metadata": {},
   "source": [
    "### Using Genie objects"
   ]
  },
  {
   "cell_type": "code",
   "execution_count": null,
   "metadata": {},
   "outputs": [],
   "source": [
    "from genie.testbed import load\n",
    "from genie.conf.base import Interface\n",
    "\n",
    "tb = load('device.yaml')\n",
    "uut = tb.devices['router1']\n",
    "\n",
    "uut.connect()\n",
    "interface = Interface(device=uut, name=\"Ethernet0/1\")\n",
    "\n",
    "interface.ipv4 = '192.168.0.1'\n",
    "interface.ipv4.netmask = '255.255.255.0'\n",
    "interface.shutdown = False\n",
    "\n",
    "# Change to True if you want to apply configuration\n",
    "print(interface.build_config(apply=False))\n",
    "\n",
    "# To remove configuration\n",
    "print(interface.build_unconfig(apply=True))\n"
   ]
  },
  {
   "cell_type": "markdown",
   "metadata": {},
   "source": [
    "## Comparing Network States"
   ]
  },
  {
   "cell_type": "code",
   "execution_count": null,
   "metadata": {
    "vscode": {
     "languageId": "shellscript"
    }
   },
   "outputs": [],
   "source": [
    "# Using Bash\n",
    "(pyats) $ pyats learn \"ospf\" --testbed-file device.yaml --output output1"
   ]
  },
  {
   "cell_type": "code",
   "execution_count": null,
   "metadata": {
    "vscode": {
     "languageId": "shellscript"
    }
   },
   "outputs": [],
   "source": [
    "# Repeat the 1st step, but save in a different file\n",
    "(pyats) $ pyats learn \"ospf\" --testbed-file device.yaml --output output2"
   ]
  },
  {
   "cell_type": "code",
   "execution_count": null,
   "metadata": {
    "vscode": {
     "languageId": "shellscript"
    }
   },
   "outputs": [],
   "source": [
    "# To compare possible changes\n",
    "# Using Bash\n",
    "$ (pyats) genie diff output1 output2\n",
    "\n",
    "+ indicates an addition\n",
    "- indicates a deletion\n",
    "+ followed by - indicates a change"
   ]
  },
  {
   "cell_type": "markdown",
   "metadata": {},
   "source": [
    "## Network Testing"
   ]
  },
  {
   "cell_type": "code",
   "execution_count": null,
   "metadata": {
    "vscode": {
     "languageId": "shellscript"
    }
   },
   "outputs": [],
   "source": [
    "# shut and no shut bgp to see if the network behaves as expected\n",
    "# In the cli, use the mock yaml file\n",
    "(pyats) $ genie run --testbed-file mock.yaml --trigger-uids=\"TriggerShutNoShutBgp\" --verification-uids=\"Verify_BgpProcessVrfAll\" --devices uut"
   ]
  },
  {
   "cell_type": "code",
   "execution_count": null,
   "metadata": {
    "vscode": {
     "languageId": "shellscript"
    }
   },
   "outputs": [],
   "source": [
    "# To view logs from the web panel\n",
    "# In the cli\n",
    "pyats logs view"
   ]
  },
  {
   "cell_type": "markdown",
   "metadata": {},
   "source": [
    "## APIs"
   ]
  },
  {
   "cell_type": "code",
   "execution_count": null,
   "metadata": {},
   "outputs": [],
   "source": [
    "from genie.testbed import load\n",
    "\n",
    "testbed = load('device.yaml')\n",
    "device = testbed.devices['R1']\n",
    "device.connect()\n",
    "\n",
    "# Display routing table\n",
    "routes = device.api.get_routes()\n",
    "\n",
    "# In a dict format\n",
    "print(routes)"
   ]
  },
  {
   "cell_type": "code",
   "execution_count": null,
   "metadata": {},
   "outputs": [],
   "source": [
    "# To shutdown an interface\n",
    "device.api.shut_interface(interface='GigabitEthernet3')"
   ]
  },
  {
   "cell_type": "code",
   "execution_count": null,
   "metadata": {},
   "outputs": [],
   "source": [
    "# To learn supported APIs on the connected device\n",
    "dir(device.api)"
   ]
  }
 ],
 "metadata": {
  "kernelspec": {
   "display_name": "Python 3",
   "language": "python",
   "name": "python3"
  },
  "language_info": {
   "name": "python",
   "version": "3.11.6"
  }
 },
 "nbformat": 4,
 "nbformat_minor": 2
}
