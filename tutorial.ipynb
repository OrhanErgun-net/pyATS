{
 "cells": [
  {
   "cell_type": "markdown",
   "metadata": {},
   "source": [
    "# installation"
   ]
  },
  {
   "cell_type": "code",
   "execution_count": null,
   "metadata": {
    "vscode": {
     "languageId": "shellscript"
    }
   },
   "outputs": [],
   "source": [
    "# Make sure your prompt starts with (venv)\n",
    "pip install \"pyats[full]\" "
   ]
  },
  {
   "cell_type": "code",
   "execution_count": null,
   "metadata": {
    "vscode": {
     "languageId": "shellscript"
    }
   },
   "outputs": [],
   "source": [
    "# To upgrade\n",
    "pip install pyats[full] --upgrade"
   ]
  },
  {
   "cell_type": "code",
   "execution_count": null,
   "metadata": {
    "vscode": {
     "languageId": "shellscript"
    }
   },
   "outputs": [],
   "source": [
    "# To check the current version\n",
    "pyats version check"
   ]
  },
  {
   "cell_type": "markdown",
   "metadata": {},
   "source": [
    "# pyats basics"
   ]
  },
  {
   "cell_type": "markdown",
   "metadata": {},
   "source": [
    "## basic connectivity"
   ]
  },
  {
   "cell_type": "code",
   "execution_count": null,
   "metadata": {},
   "outputs": [],
   "source": [
    "# Basic device connectivity\n",
    "\n",
    "from genie.testbed import load\n",
    "\n",
    "# Make sure the yaml file is in the same\n",
    "# directory, or provide absolute path\n",
    "tb = load('device.yaml')\n",
    "dev = tb.devices['R1']\n",
    "dev.connect()\n",
    "\n",
    "# To disable default configuration\n",
    "dev.connect(mit=True)"
   ]
  },
  {
   "cell_type": "markdown",
   "metadata": {},
   "source": [
    "## parsing"
   ]
  },
  {
   "cell_type": "code",
   "execution_count": null,
   "metadata": {
    "vscode": {
     "languageId": "shellscript"
    }
   },
   "outputs": [],
   "source": [
    "# Using Bash\n",
    "pyats parse \"show version\" --testbed-file device.yaml --devices router1"
   ]
  },
  {
   "cell_type": "code",
   "execution_count": null,
   "metadata": {
    "vscode": {
     "languageId": "shellscript"
    }
   },
   "outputs": [],
   "source": [
    "# Multiple commands\n",
    "pyats parse \"show version\" \"show ip interface brief\" --testbed-file device.yaml --devices router1"
   ]
  },
  {
   "cell_type": "code",
   "execution_count": null,
   "metadata": {},
   "outputs": [],
   "source": [
    "# Using Python\n",
    "from genie.testbed import load\n",
    "\n",
    "tb = load('device.yaml')\n",
    "dev = tb.devices['R1']\n",
    "dev.connect()\n",
    "p1 = dev.parse('show version')\n",
    "\n",
    "print(p1)"
   ]
  },
  {
   "cell_type": "code",
   "execution_count": null,
   "metadata": {},
   "outputs": [],
   "source": [
    "# Using Python\n",
    "from genie.testbed import load\n",
    "\n",
    "tb = load('device.yaml')\n",
    "dev = tb.devices['R1']\n",
    "dev.connect(mit=True) # change this to False to see the difference\n",
    "p1 = dev.parse('show ip route')\n",
    "\n",
    "dev = tb.devices['S1']\n",
    "dev.connect(mit=True)\n",
    "p2 = dev.parse('show vlan brief')"
   ]
  },
  {
   "cell_type": "code",
   "execution_count": null,
   "metadata": {},
   "outputs": [],
   "source": [
    "# Using Python\n",
    "from genie.testbed import load\n",
    "\n",
    "routers = ('R1', 'R2', 'R3')\n",
    "\n",
    "try:\n",
    "    for device in routers:\n",
    "        tb = load('device.yaml')\n",
    "        dev = tb.devices[device]\n",
    "        dev.connect(mit=True)\n",
    "        p1 = dev.parse('show ip route')\n",
    "except Exception as e:\n",
    "    print(str(e))\n"
   ]
  },
  {
   "cell_type": "markdown",
   "metadata": {},
   "source": [
    "## learning features"
   ]
  },
  {
   "cell_type": "code",
   "execution_count": null,
   "metadata": {},
   "outputs": [],
   "source": [
    "# Using Python\n",
    "from genie.testbed import load\n",
    "\n",
    "tb = load('device.yaml')\n",
    "dev = tb.devices['R1']\n",
    "dev.connect()\n",
    "p1 = dev.learn('ospf')\n",
    "\n",
    "print(p1)"
   ]
  },
  {
   "cell_type": "code",
   "execution_count": null,
   "metadata": {
    "vscode": {
     "languageId": "shellscript"
    }
   },
   "outputs": [],
   "source": [
    "# Using pyats interactive shell\n",
    "(pyats) $ pyats shell --testbed-file device.yaml\n",
    "\n",
    "# Python code in the next cell"
   ]
  },
  {
   "cell_type": "code",
   "execution_count": null,
   "metadata": {},
   "outputs": [],
   "source": [
    "dev = testbed.devices['router1']\n",
    "dev.connect()\n",
    "output = dev.learn('ospf')"
   ]
  },
  {
   "cell_type": "code",
   "execution_count": null,
   "metadata": {
    "vscode": {
     "languageId": "shellscript"
    }
   },
   "outputs": [],
   "source": [
    "# Using Bash\n",
    "# You can redirect the output into a text file\n",
    "# Replace ouput_folder\n",
    "(pyats) $ pyats learn ospf --testbed-file device.yaml --devices router1 --output output_folder"
   ]
  },
  {
   "cell_type": "code",
   "execution_count": null,
   "metadata": {
    "vscode": {
     "languageId": "shellscript"
    }
   },
   "outputs": [],
   "source": [
    "# To learn multiple features\n",
    "(pyats) $ pyats learn ospf bgp --testbed-file device.yaml --devices router1 --output output_folder"
   ]
  },
  {
   "cell_type": "code",
   "execution_count": null,
   "metadata": {
    "vscode": {
     "languageId": "shellscript"
    }
   },
   "outputs": [],
   "source": [
    "# To learn all features\n",
    "(pyats) $ pyats learn all --testbed-file device.yaml --devices router1 --output output_folder"
   ]
  },
  {
   "cell_type": "markdown",
   "metadata": {},
   "source": [
    "## configuring devices"
   ]
  },
  {
   "cell_type": "markdown",
   "metadata": {},
   "source": [
    "### the direct method"
   ]
  },
  {
   "cell_type": "code",
   "execution_count": null,
   "metadata": {},
   "outputs": [],
   "source": [
    "from genie.testbed import load\n",
    "\n",
    "config_commands = '''\n",
    "    interface Ethernet0/1\n",
    "    no shutdown\n",
    "'''\n",
    "\n",
    "tb = load('device.yaml')\n",
    "dev = tb.devices['R1']\n",
    "dev.connect()\n",
    "dev.configure(config_commands)\n",
    "\n",
    "print(f\"Configuration applied to R1\")\n",
    "\n",
    "dev.disconnect()"
   ]
  },
  {
   "cell_type": "code",
   "execution_count": null,
   "metadata": {},
   "outputs": [],
   "source": [
    "# Configuring VLANs\n",
    "from genie.testbed import load\n",
    "\n",
    "config_commands = '''\n",
    "        vlan 10\n",
    "        name IT\n",
    "        vlan 20\n",
    "        name Finance\n",
    "        int e0/1\n",
    "        switchport mode access\n",
    "        switchport access vlan 10\n",
    "        int e0/2\n",
    "        switchport mode access\n",
    "        switchport access vlan 20\n",
    "'''\n",
    "\n",
    "tb = load('device.yaml')\n",
    "dev = tb.devices['S1']\n",
    "dev.connect()\n",
    "dev.configure(config_commands)\n",
    "\n",
    "print(f\"Configuration applied to S1\")\n"
   ]
  },
  {
   "cell_type": "code",
   "execution_count": null,
   "metadata": {},
   "outputs": [],
   "source": [
    "# With exception handling\n",
    "from genie.testbed import load\n",
    "\n",
    "try:\n",
    "    config_commands = '''\n",
    "    interface Ethernet0/1\n",
    "    no shutdown\n",
    "    '''\n",
    "    \n",
    "    tb = load('device.yaml')\n",
    "    dev = tb.devices['R1']\n",
    "    dev.connect()\n",
    "    dev.configure(config_commands)\n",
    "\n",
    "    print(f\"Configuration applied to R1\")\n",
    "    dev.disconnect()\n",
    "    \n",
    "except Exception as e:\n",
    "    print(\"Error: \", str(e))"
   ]
  },
  {
   "cell_type": "markdown",
   "metadata": {},
   "source": [
    "### using genie objects"
   ]
  },
  {
   "cell_type": "code",
   "execution_count": null,
   "metadata": {},
   "outputs": [],
   "source": [
    "from genie.testbed import load\n",
    "from genie.conf.base import Interface\n",
    "\n",
    "tb = load('device.yaml')\n",
    "uut = tb.devices['router1']\n",
    "\n",
    "uut.connect()\n",
    "interface = Interface(device=uut, name=\"Ethernet0/1\")\n",
    "\n",
    "interface.ipv4 = '192.168.0.1'\n",
    "interface.ipv4.netmask = '255.255.255.0'\n",
    "interface.shutdown = False\n",
    "\n",
    "# Change to True if you want to apply configuration\n",
    "print(interface.build_config(apply=False))\n",
    "\n",
    "# To remove configuration\n",
    "print(interface.build_unconfig(apply=True))\n"
   ]
  },
  {
   "cell_type": "markdown",
   "metadata": {},
   "source": [
    "## comparing network states"
   ]
  },
  {
   "cell_type": "code",
   "execution_count": null,
   "metadata": {
    "vscode": {
     "languageId": "shellscript"
    }
   },
   "outputs": [],
   "source": [
    "# Using Bash\n",
    "(pyats) $ pyats learn \"ospf\" --testbed-file device.yaml --output output1"
   ]
  },
  {
   "cell_type": "code",
   "execution_count": null,
   "metadata": {
    "vscode": {
     "languageId": "shellscript"
    }
   },
   "outputs": [],
   "source": [
    "# Repeat the 1st step, but save in a different file\n",
    "(pyats) $ pyats learn \"ospf\" --testbed-file device.yaml --output output2"
   ]
  },
  {
   "cell_type": "code",
   "execution_count": null,
   "metadata": {
    "vscode": {
     "languageId": "shellscript"
    }
   },
   "outputs": [],
   "source": [
    "# To compare possible changes\n",
    "# Using Bash\n",
    "$ (pyats) genie diff output1 output2\n",
    "\n",
    "+ indicates an addition\n",
    "- indicates a deletion\n",
    "+ followed by - indicates a change"
   ]
  },
  {
   "cell_type": "markdown",
   "metadata": {},
   "source": [
    "## triggers and verifications"
   ]
  },
  {
   "cell_type": "code",
   "execution_count": null,
   "metadata": {
    "vscode": {
     "languageId": "shellscript"
    }
   },
   "outputs": [],
   "source": [
    "# shut and no shut bgp to see if the network behaves as expected\n",
    "# In the cli, use the mock yaml file\n",
    "(pyats) $ genie run --testbed-file mock.yaml --trigger-uids=\"TriggerShutNoShutBgp\" --verification-uids=\"Verify_BgpProcessVrfAll\" --devices uut"
   ]
  },
  {
   "cell_type": "code",
   "execution_count": null,
   "metadata": {
    "vscode": {
     "languageId": "shellscript"
    }
   },
   "outputs": [],
   "source": [
    "# To view logs from the web panel\n",
    "# In the cli\n",
    "pyats logs view"
   ]
  },
  {
   "cell_type": "markdown",
   "metadata": {},
   "source": [
    "## apis"
   ]
  },
  {
   "cell_type": "code",
   "execution_count": null,
   "metadata": {},
   "outputs": [],
   "source": [
    "from genie.testbed import load\n",
    "\n",
    "testbed = load('device.yaml')\n",
    "device = testbed.devices['R1']\n",
    "device.connect()\n",
    "\n",
    "# Display routing table\n",
    "routes = device.api.get_routes()\n",
    "\n",
    "# In a dict format\n",
    "print(routes)"
   ]
  },
  {
   "cell_type": "code",
   "execution_count": null,
   "metadata": {},
   "outputs": [],
   "source": [
    "# To shutdown an interface\n",
    "device.api.shut_interface(interface='GigabitEthernet3')"
   ]
  },
  {
   "cell_type": "code",
   "execution_count": null,
   "metadata": {},
   "outputs": [],
   "source": [
    "# To learn supported APIs on the connected device\n",
    "dir(device.api)"
   ]
  },
  {
   "cell_type": "markdown",
   "metadata": {},
   "source": [
    "# pyats cli"
   ]
  },
  {
   "cell_type": "code",
   "execution_count": null,
   "metadata": {
    "vscode": {
     "languageId": "shellscript"
    }
   },
   "outputs": [],
   "source": [
    "pyats -h\n",
    "pyats -v\n",
    "pyats -q"
   ]
  },
  {
   "cell_type": "markdown",
   "metadata": {},
   "source": [
    "## create a template"
   ]
  },
  {
   "cell_type": "code",
   "execution_count": null,
   "metadata": {
    "vscode": {
     "languageId": "shellscript"
    }
   },
   "outputs": [],
   "source": [
    "pyats create project"
   ]
  },
  {
   "cell_type": "code",
   "execution_count": null,
   "metadata": {
    "vscode": {
     "languageId": "shellscript"
    }
   },
   "outputs": [],
   "source": [
    "pyats create project --project_name my-project --testbed_name my-testbed"
   ]
  },
  {
   "cell_type": "code",
   "execution_count": null,
   "metadata": {
    "vscode": {
     "languageId": "shellscript"
    }
   },
   "outputs": [],
   "source": [
    "pyats create testbed interactive --output=testbed.yaml"
   ]
  },
  {
   "cell_type": "markdown",
   "metadata": {},
   "source": [
    "## develop and undevelop"
   ]
  },
  {
   "cell_type": "code",
   "execution_count": null,
   "metadata": {
    "vscode": {
     "languageId": "shellscript"
    }
   },
   "outputs": [],
   "source": [
    "pyats develop packages"
   ]
  },
  {
   "cell_type": "code",
   "execution_count": null,
   "metadata": {
    "vscode": {
     "languageId": "shellscript"
    }
   },
   "outputs": [],
   "source": [
    "pyats develop all"
   ]
  },
  {
   "cell_type": "code",
   "execution_count": null,
   "metadata": {
    "vscode": {
     "languageId": "shellscript"
    }
   },
   "outputs": [],
   "source": [
    "  pyats undevelop all"
   ]
  },
  {
   "cell_type": "markdown",
   "metadata": {},
   "source": [
    "## logs view"
   ]
  },
  {
   "cell_type": "code",
   "execution_count": null,
   "metadata": {
    "vscode": {
     "languageId": "shellscript"
    }
   },
   "outputs": [],
   "source": [
    "pyats logs view"
   ]
  },
  {
   "cell_type": "markdown",
   "metadata": {},
   "source": [
    "## run job"
   ]
  },
  {
   "cell_type": "code",
   "execution_count": null,
   "metadata": {
    "vscode": {
     "languageId": "shellscript"
    }
   },
   "outputs": [],
   "source": [
    "pyats run job <filename>"
   ]
  },
  {
   "cell_type": "markdown",
   "metadata": {},
   "source": [
    "## pyats secret"
   ]
  },
  {
   "cell_type": "code",
   "execution_count": null,
   "metadata": {
    "vscode": {
     "languageId": "shellscript"
    }
   },
   "outputs": [],
   "source": [
    "pyats secret keygen"
   ]
  },
  {
   "cell_type": "code",
   "execution_count": null,
   "metadata": {
    "vscode": {
     "languageId": "shellscript"
    }
   },
   "outputs": [],
   "source": [
    "pyats secret encode"
   ]
  },
  {
   "cell_type": "code",
   "execution_count": null,
   "metadata": {
    "vscode": {
     "languageId": "shellscript"
    }
   },
   "outputs": [],
   "source": [
    "pyats secret decode"
   ]
  },
  {
   "cell_type": "markdown",
   "metadata": {},
   "source": [
    "## pyats shell"
   ]
  },
  {
   "cell_type": "code",
   "execution_count": null,
   "metadata": {
    "vscode": {
     "languageId": "shellscript"
    }
   },
   "outputs": [],
   "source": [
    "pyats shell"
   ]
  },
  {
   "cell_type": "code",
   "execution_count": null,
   "metadata": {
    "vscode": {
     "languageId": "shellscript"
    }
   },
   "outputs": [],
   "source": [
    "pyats shell --testbed-file=testbed.yaml"
   ]
  },
  {
   "cell_type": "code",
   "execution_count": null,
   "metadata": {
    "vscode": {
     "languageId": "shellscript"
    }
   },
   "outputs": [],
   "source": [
    "pyats shell --testbed-file=testbed.yaml --no-ipython"
   ]
  },
  {
   "cell_type": "markdown",
   "metadata": {},
   "source": [
    "## pyats validate"
   ]
  },
  {
   "cell_type": "code",
   "execution_count": null,
   "metadata": {
    "vscode": {
     "languageId": "shellscript"
    }
   },
   "outputs": [],
   "source": [
    "pyats validate testbed testbed.yaml"
   ]
  },
  {
   "cell_type": "markdown",
   "metadata": {},
   "source": [
    "# aetest"
   ]
  },
  {
   "cell_type": "code",
   "execution_count": null,
   "metadata": {},
   "outputs": [],
   "source": [
    "from pyats import aetest\n",
    "from genie.testbed import load\n",
    "\n",
    "\n",
    "tb = load('devices.yaml')\n",
    "\n",
    "\n",
    "class CommonSetup(aetest.CommonSetup):\n",
    "    @aetest.subsection\n",
    "    def connect_to_device(self, testbed):\n",
    "        # connect to testbed devices\n",
    "        for device in testbed:\n",
    "            device.connect(mit=True)\n",
    "\n",
    "\n",
    "class SimpleTestcase(aetest.Testcase):\n",
    "    @aetest.test\n",
    "    def route_test(self, testbed):\n",
    "        for device in testbed:\n",
    "            default_route = device.parse(\"show ip route\")\n",
    "            assert default_route[\"vrf\"][\"default\"][\"address_family\"][\"ipv4\"][\"routes\"][\"0.0.0.0/0\"][\"route\"] == \"0.0.0.0/0\"\n",
    "\n",
    "    @aetest.test\n",
    "    def next_hop_test(self, testbed):\n",
    "        for device in testbed:\n",
    "            show_gw = device.parse(\"show ip route\")\n",
    "            assert show_gw[\"vrf\"][\"default\"][\"address_family\"][\"ipv4\"][\"routes\"][\"0.0.0.0/0\"][\"next_hop\"][\"next_hop_list\"][1][\"next_hop\"] == \"192.168.31.1\"\n",
    "\n",
    "\n",
    "class CommonCleanup(aetest.CommonCleanup):\n",
    "    @aetest.subsection\n",
    "    def disconnect_from_devices(self, testbed):\n",
    "        # disconnect_all\n",
    "        for device in testbed:\n",
    "            device.disconnect()\n",
    "\n",
    "\n",
    "# for running as its own executable\n",
    "if __name__ == '__main__':\n",
    "    aetest.main(testbed=tb)"
   ]
  },
  {
   "cell_type": "code",
   "execution_count": null,
   "metadata": {},
   "outputs": [],
   "source": [
    "from pyats import aetest\n",
    "from genie.testbed import load\n",
    "\n",
    "\n",
    "tb = load('devices.yaml')\n",
    "\n",
    "\n",
    "class CommonSetup(aetest.CommonSetup):\n",
    "    @aetest.subsection\n",
    "    def connect_to_device(self, testbed):\n",
    "        # connect to testbed devices\n",
    "        for device in testbed:\n",
    "            device.connect(mit=True)\n",
    "\n",
    "\n",
    "class SimpleTestcase(aetest.Testcase):\n",
    "    @aetest.test\n",
    "    def ping_test(self, testbed):\n",
    "        for device in testbed:\n",
    "            ping = device.parse(\"ping google.com\")\n",
    "            assert ping['ping']['statistics']['success_rate_percent'] >= 50.0\n",
    "\n",
    "class CommonCleanup(aetest.CommonCleanup):\n",
    "    @aetest.subsection\n",
    "    def disconnect_from_devices(self, testbed):\n",
    "        # disconnect_all\n",
    "        for device in testbed:\n",
    "            device.disconnect()\n",
    "\n",
    "\n",
    "# for running as its own executable\n",
    "if __name__ == '__main__':\n",
    "    aetest.main(testbed=tb)"
   ]
  },
  {
   "cell_type": "markdown",
   "metadata": {},
   "source": [
    "# parallel call"
   ]
  },
  {
   "cell_type": "code",
   "execution_count": null,
   "metadata": {},
   "outputs": [],
   "source": [
    "from genie.testbed import load\n",
    "from pyats.async_ import pcall\n",
    "from rich import print as rprint\n",
    "\n",
    "testbed = load(\"devices.yaml\")\n",
    "\n",
    "def get_version(dev_name, dev_obj):\n",
    "    version = dev_obj.parse(\"show version\")\n",
    "    rprint(dev_name, version, \"\\n\")\n",
    "\n",
    "testbed.connect(log_stdout=False)\n",
    "results = pcall(get_version, dev_name=testbed.devices.keys(), dev_obj=testbed.devices.values())"
   ]
  },
  {
   "cell_type": "markdown",
   "metadata": {},
   "source": [
    "## dq"
   ]
  },
  {
   "cell_type": "code",
   "execution_count": null,
   "metadata": {},
   "outputs": [],
   "source": [
    "from pyats.async_ import pcall\n",
    "from genie.testbed import load\n",
    "from genie.utils import Dq\n",
    "from rich import print as rprint\n",
    "\n",
    "def get_static_routes(dev_name, dev_obj):\n",
    "    table = dev_obj.parse(\"show ip route\")\n",
    "    get_routes = (Dq(table).contains('S*').get_values('routes'))\n",
    "    \n",
    "    if get_routes:\n",
    "        print(dev_name, get_routes)\n",
    "    else:\n",
    "        print(\"No static routes found\")\n",
    "\n",
    "\n",
    "testbed = load(\"devices.yaml\")\n",
    "testbed.connect(log_stdout=False)\n",
    "results = pcall(get_static_routes, dev_name=testbed.devices.keys(), dev_obj=testbed.devices.values())"
   ]
  },
  {
   "cell_type": "code",
   "execution_count": null,
   "metadata": {},
   "outputs": [],
   "source": [
    "from genie.testbed import load\n",
    "from genie.utils import Dq\n",
    "from pyats import aetest\n",
    "\n",
    "\n",
    "tb = load('devices.yaml')\n",
    "\n",
    "\n",
    "class CommonSetup(aetest.CommonSetup):\n",
    "    @aetest.subsection\n",
    "    def connect_to_device(self, testbed):\n",
    "        # connect to testbed devices\n",
    "        for device in testbed:\n",
    "            device.connect(mit=True)\n",
    "\n",
    "\n",
    "class SimpleTestcase(aetest.Testcase):\n",
    "    @aetest.test\n",
    "    def route_test(self, testbed):\n",
    "        for device in testbed:\n",
    "            table = device.parse(\"show ip route\")\n",
    "            get_route = (Dq(table).contains('S*').get_values('routes'))\n",
    "            assert get_route == [\"0.0.0.0/0\"]\n",
    "\n",
    "\n",
    "class CommonCleanup(aetest.CommonCleanup):\n",
    "    @aetest.subsection\n",
    "    def disconnect_from_devices(self, testbed):\n",
    "        # disconnect_all\n",
    "        for device in testbed:\n",
    "            device.disconnect()\n",
    "\n",
    "\n",
    "# for running as its own executable\n",
    "if __name__ == '__main__':\n",
    "    aetest.main(testbed=tb)"
   ]
  },
  {
   "cell_type": "markdown",
   "metadata": {},
   "source": [
    "# easypy"
   ]
  },
  {
   "cell_type": "code",
   "execution_count": null,
   "metadata": {},
   "outputs": [],
   "source": [
    "from pyats.easypy import run\n",
    "\n",
    "def main():\n",
    "    run('test.py')\n",
    "    run('test2.py')"
   ]
  },
  {
   "cell_type": "markdown",
   "metadata": {},
   "source": [
    "## run the job file"
   ]
  },
  {
   "cell_type": "code",
   "execution_count": null,
   "metadata": {
    "vscode": {
     "languageId": "shellscript"
    }
   },
   "outputs": [],
   "source": [
    "pyats run job easy.py --testbed=devices.yaml"
   ]
  }
 ],
 "metadata": {
  "kernelspec": {
   "display_name": "Python 3",
   "language": "python",
   "name": "python3"
  },
  "language_info": {
   "name": "python",
   "version": "3.11.6"
  }
 },
 "nbformat": 4,
 "nbformat_minor": 2
}
